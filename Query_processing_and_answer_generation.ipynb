{
  "nbformat": 4,
  "nbformat_minor": 0,
  "metadata": {
    "colab": {
      "provenance": []
    },
    "kernelspec": {
      "name": "python3",
      "display_name": "Python 3"
    },
    "language_info": {
      "name": "python"
    }
  },
  "cells": [
    {
      "cell_type": "markdown",
      "source": [
        "Install Necessary Packages\n",
        "Install Packages in Jupyter Notebook **bold text**\n",
        "Open your Jupyter Notebook and run the following commands to install the required packages:"
      ],
      "metadata": {
        "id": "kBFGA1DnTMQx"
      }
    },
    {
      "cell_type": "code",
      "source": [
        "!pip install llama-index-llms-ollama\n",
        "!pip install llama-index-embeddings-huggingface\n",
        "!pip install llama-index\n",
        "!pip install langchain\n",
        "!pip install transformers\n",
        "!pip install huggingface_hub\n",
        "!pip install --upgrade llama-index\n",
        "!pip install --upgrade langchain\n",
        "!pip install --upgrade transformers\n",
        "!pip install --upgrade huggingface_hub\n",
        "!pip install --upgrade llama-index-llms-ollama llama-index-embeddings-huggingface"
      ],
      "metadata": {
        "id": "-vHmkXkjTPOQ"
      },
      "execution_count": null,
      "outputs": []
    },
    {
      "cell_type": "markdown",
      "source": [
        "**Define Settings and Load Documents**\n",
        "Define Settings"
      ],
      "metadata": {
        "id": "qKZsp98-TSu0"
      }
    },
    {
      "cell_type": "code",
      "source": [
        "import json\n",
        "import logging\n",
        "from llama_index.core import VectorStoreIndex, SimpleDirectoryReader, Settings\n",
        "from llama_index.embeddings.huggingface import HuggingFaceEmbedding\n",
        "from llama_index.llms.ollama import Ollama\n",
        "from llama_index.readers.file import PDFReader"
      ],
      "metadata": {
        "id": "Bo6SA498TXPr"
      },
      "execution_count": null,
      "outputs": []
    },
    {
      "cell_type": "markdown",
      "source": [
        "**Load Documents**"
      ],
      "metadata": {
        "id": "HPQDHoHfTayk"
      }
    },
    {
      "cell_type": "code",
      "source": [
        "# Read input JSON file to get the PDF path\n",
        "with open('input.json', 'r') as file:\n",
        "    input_data = json.load(file)\n",
        "    pdf_directory = input_data['pdf_directory']\n",
        "\n",
        "# PDF Reader with SimpleDirectoryReader\n",
        "parser = PDFReader()\n",
        "file_extractor = {\".pdf\": parser}\n",
        "documents = SimpleDirectoryReader(pdf_directory, file_extractor=file_extractor).load_data()\n",
        "\n",
        "# bge-base embedding model\n",
        "Settings.embed_model = HuggingFaceEmbedding(model_name=\"BAAI/bge-base-en-v1.5\")\n",
        "\n",
        "# ollama\n",
        "logging.basicConfig(level=logging.WARNING)\n",
        "logging.getLogger('llama_index').setLevel(logging.ERROR)\n",
        "logging.getLogger('httpx').setLevel(logging.ERROR)\n",
        "logging.getLogger('httpcore').setLevel(logging.ERROR)\n",
        "\n",
        "Settings.llm = Ollama(model=\"llama3\", request_timeout=360.0)\n",
        "index = VectorStoreIndex.from_documents(documents)"
      ],
      "metadata": {
        "id": "U4Hf93zTTg3v"
      },
      "execution_count": null,
      "outputs": []
    },
    {
      "cell_type": "markdown",
      "source": [
        "**Main Function to Handle Input and Query Processing**"
      ],
      "metadata": {
        "id": "wTQHyj0wTkgU"
      }
    },
    {
      "cell_type": "code",
      "source": [
        "query_engine = index.as_query_engine()\n",
        "question = \"\"    # your question here\n",
        "print(\"\\nQuestion: \", question)\n",
        "\n",
        "try:\n",
        "    response = query_engine.query(question)\n",
        "    response_text = str(response)\n",
        "    print(\"\\nAnswer: \", response_text)\n",
        "\n",
        "    # Write the output to a JSON file\n",
        "    output_data = {\"question\": question, \"answer\": response_text}\n",
        "    with open('output.json', 'w') as outfile:\n",
        "        json.dump(output_data, outfile, indent=4)\n",
        "except Exception as e:\n",
        "    print(f\"Error occurred: {e}\")\n",
        "    # Write the error to the output JSON file\n",
        "    error_data = {\"error\": str(e)}\n",
        "    with open('output.json', 'w') as outfile:\n",
        "        json.dump(error_data, outfile, indent=4)"
      ],
      "metadata": {
        "id": "wIuoqfVqTnpO"
      },
      "execution_count": null,
      "outputs": []
    }
  ]
}